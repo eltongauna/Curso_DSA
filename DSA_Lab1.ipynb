{
 "cells": [
  {
   "cell_type": "markdown",
   "id": "d5153e4c",
   "metadata": {},
   "source": [
    "Gere código Python que crie uma lista com números de 1 a 100 e então imprima os numeros pares, mas somente se o número for divisível por 4. "
   ]
  },
  {
   "cell_type": "code",
   "execution_count": null,
   "id": "4044baf3",
   "metadata": {
    "scrolled": false
   },
   "outputs": [],
   "source": [
    "#Cria uma lista com números entre 1 e 100\n",
    "numeros = list(range(1,101))\n",
    "\n",
    "#Percorre e imprime a lista verificando os pares e divisíveis por 4\n",
    "for numero in numeros:\n",
    "    if numero % 2 ==0 and numero % 4 == 0:\n",
    "        print(numero)"
   ]
  },
  {
   "cell_type": "markdown",
   "id": "ec1d37a4",
   "metadata": {},
   "source": [
    "Gere código Python que crie uma lista com números de 1 a 100 e então imprima os numeros pares, mas somente se o número for divisível por 4, usando \"list comprehension\""
   ]
  },
  {
   "cell_type": "code",
   "execution_count": null,
   "id": "1dfbf7a8",
   "metadata": {},
   "outputs": [],
   "source": [
    "#Mesmo exemplo usando list comprehension\n",
    "numeros = list(range(1,101))\n",
    "result = [numero for numero in numeros if numero % 2 == 0 and numero %4 == 0]\n",
    "print(result)"
   ]
  }
 ],
 "metadata": {
  "kernelspec": {
   "display_name": "Python 3 (ipykernel)",
   "language": "python",
   "name": "python3"
  },
  "language_info": {
   "codemirror_mode": {
    "name": "ipython",
    "version": 3
   },
   "file_extension": ".py",
   "mimetype": "text/x-python",
   "name": "python",
   "nbconvert_exporter": "python",
   "pygments_lexer": "ipython3",
   "version": "3.11.3"
  }
 },
 "nbformat": 4,
 "nbformat_minor": 5
}
