{
 "cells": [
  {
   "cell_type": "markdown",
   "id": "e7d314e1",
   "metadata": {},
   "source": [
    "Gere código Python que crie uma lista com números de 1 a 100 e então imprima os numeros pares, mas somente se o número for divisível por 4. "
   ]
  },
  {
   "cell_type": "code",
   "execution_count": 8,
   "id": "4fc8cd3e",
   "metadata": {
    "scrolled": false
   },
   "outputs": [
    {
     "name": "stdout",
     "output_type": "stream",
     "text": [
      "4\n",
      "8\n",
      "12\n",
      "16\n",
      "20\n",
      "24\n",
      "28\n",
      "32\n",
      "36\n",
      "40\n",
      "44\n",
      "48\n",
      "52\n",
      "56\n",
      "60\n",
      "64\n",
      "68\n",
      "72\n",
      "76\n",
      "80\n",
      "84\n",
      "88\n",
      "92\n",
      "96\n",
      "100\n"
     ]
    }
   ],
   "source": [
    "#Cria uma lista com números entre 1 e 100\n",
    "numeros = list(range(1,101))\n",
    "\n",
    "#Percorre e imprime a lista verificando os pares e divisíveis por 4\n",
    "for numero in numeros:\n",
    "    if numero % 2 ==0 and numero % 4 == 0:\n",
    "        print(numero)"
   ]
  },
  {
   "cell_type": "markdown",
   "id": "84f74e10",
   "metadata": {},
   "source": [
    "Gere código Python que crie uma lista com números de 1 a 100 e então imprima os numeros pares, mas somente se o número for divisível por 4, usando \"list comprehension\""
   ]
  },
  {
   "cell_type": "code",
   "execution_count": 11,
   "id": "e17eb5ad",
   "metadata": {},
   "outputs": [
    {
     "name": "stdout",
     "output_type": "stream",
     "text": [
      "[4, 8, 12, 16, 20, 24, 28, 32, 36, 40, 44, 48, 52, 56, 60, 64, 68, 72, 76, 80, 84, 88, 92, 96, 100]\n"
     ]
    }
   ],
   "source": [
    "#Mesmo exemplo usando list comprehension\n",
    "numeros = list(range(1,101))\n",
    "result = [numero for numero in numeros if numero % 2 == 0 and numero %4 == 0]\n",
    "print(result)"
   ]
  }
 ],
 "metadata": {
  "kernelspec": {
   "display_name": "Python 3 (ipykernel)",
   "language": "python",
   "name": "python3"
  },
  "language_info": {
   "codemirror_mode": {
    "name": "ipython",
    "version": 3
   },
   "file_extension": ".py",
   "mimetype": "text/x-python",
   "name": "python",
   "nbconvert_exporter": "python",
   "pygments_lexer": "ipython3",
   "version": "3.11.3"
  }
 },
 "nbformat": 4,
 "nbformat_minor": 5
}
