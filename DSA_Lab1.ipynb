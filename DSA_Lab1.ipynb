{
 "cells": [
  {
   "cell_type": "markdown",
   "id": "0c90c723",
   "metadata": {},
   "source": [
    "Gere código Python que crie uma lista com números de 1 a 100 e então imprima os numeros pares, mas somente se o número for divisível por 4. "
   ]
  },
  {
   "cell_type": "code",
   "execution_count": null,
   "id": "df7845c4",
   "metadata": {
    "scrolled": false
   },
   "outputs": [],
   "source": [
    "#Cria uma lista com números entre 1 e 100\n",
    "numeros = list(range(1,101))\n",
    "\n",
    "#Percorre e imprime a lista verificando os pares e divisíveis por 4\n",
    "for numero in numeros:\n",
    "    if numero % 2 ==0 and numero % 4 == 0:\n",
    "        print(numero)"
   ]
  },
  {
   "cell_type": "markdown",
   "id": "08f47c8d",
   "metadata": {},
   "source": [
    "Gere código Python que crie uma lista com números de 1 a 100 e então imprima os numeros pares, mas somente se o número for divisível por 4, usando \"list comprehension\""
   ]
  },
  {
   "cell_type": "code",
   "execution_count": 13,
   "id": "02e7d362",
   "metadata": {},
   "outputs": [
    {
     "name": "stdout",
     "output_type": "stream",
     "text": [
      "[4, 8, 12, 16, 20, 24, 28, 32, 36, 40, 44, 48, 52, 56, 60, 64, 68, 72, 76, 80, 84, 88, 92, 96, 100]\n"
     ]
    }
   ],
   "source": [
    "#Mesmo exemplo usando list comprehension\n",
    "numeros = list(range(1,101))\n",
    "result = [numero for numero in numeros if numero % 2 == 0 and numero %4 == 0]\n",
    "print(result)"
   ]
  },
  {
   "cell_type": "markdown",
   "id": "2b0bd12d",
   "metadata": {},
   "source": [
    "Calculadora de área de poligonos"
   ]
  },
  {
   "cell_type": "code",
   "execution_count": 20,
   "id": "d5981f8a",
   "metadata": {},
   "outputs": [
    {
     "name": "stdout",
     "output_type": "stream",
     "text": [
      "Bem vindo a Calculadora de Área de poligonos\n"
     ]
    }
   ],
   "source": [
    "print('Bem vindo a Calculadora de Área de poligonos')"
   ]
  },
  {
   "cell_type": "code",
   "execution_count": 27,
   "id": "a7b25f29",
   "metadata": {},
   "outputs": [
    {
     "name": "stdout",
     "output_type": "stream",
     "text": [
      "Informe o tamanho da base: 2.5\n"
     ]
    }
   ],
   "source": [
    "base = float(input('Informe o tamanho da base: '))"
   ]
  },
  {
   "cell_type": "code",
   "execution_count": 28,
   "id": "1a6b1012",
   "metadata": {},
   "outputs": [
    {
     "name": "stdout",
     "output_type": "stream",
     "text": [
      "Informe o tamanho da altura: 4\n"
     ]
    }
   ],
   "source": [
    "altura = float(input('Informe o tamanho da altura: '))"
   ]
  },
  {
   "cell_type": "code",
   "execution_count": 29,
   "id": "f69d4a74",
   "metadata": {},
   "outputs": [],
   "source": [
    "area = base * altura"
   ]
  },
  {
   "cell_type": "code",
   "execution_count": 30,
   "id": "309ab83a",
   "metadata": {},
   "outputs": [
    {
     "name": "stdout",
     "output_type": "stream",
     "text": [
      "A área é: 10.0\n"
     ]
    }
   ],
   "source": [
    "print('A área é:', area)"
   ]
  },
  {
   "cell_type": "markdown",
   "id": "7f001118",
   "metadata": {},
   "source": [
    "Calculadora Simples"
   ]
  },
  {
   "cell_type": "code",
   "execution_count": 33,
   "id": "2874304c",
   "metadata": {},
   "outputs": [
    {
     "name": "stdout",
     "output_type": "stream",
     "text": [
      "Bem vindo a Calculadora Simples\n"
     ]
    }
   ],
   "source": [
    "print('Bem vindo a Calculadora Simples')"
   ]
  },
  {
   "cell_type": "code",
   "execution_count": 34,
   "id": "f001deb2",
   "metadata": {},
   "outputs": [
    {
     "name": "stdout",
     "output_type": "stream",
     "text": [
      "Informe um número: 2\n"
     ]
    }
   ],
   "source": [
    "valor1 = float(input('Informe um número: '))"
   ]
  },
  {
   "cell_type": "code",
   "execution_count": 36,
   "id": "1a497ddd",
   "metadata": {},
   "outputs": [
    {
     "name": "stdout",
     "output_type": "stream",
     "text": [
      "Informe outro número: 2\n"
     ]
    }
   ],
   "source": [
    "valor2 = float(input('Informe outro número: '))"
   ]
  },
  {
   "cell_type": "code",
   "execution_count": 39,
   "id": "54dabc67",
   "metadata": {},
   "outputs": [
    {
     "name": "stdout",
     "output_type": "stream",
     "text": [
      "Informe o sinal da operação a ser realizada(+,-,*,/)*\n"
     ]
    }
   ],
   "source": [
    "sinal = input('Informe o sinal da operação a ser realizada(+,-,*,/)')"
   ]
  },
  {
   "cell_type": "code",
   "execution_count": 40,
   "id": "d12734d1",
   "metadata": {},
   "outputs": [],
   "source": [
    "if (sinal == '+'):\n",
    "    total = valor1 + valor2\n",
    "elif (sinal == '-'):\n",
    "    total = valor1 - valor2\n",
    "elif (sinal == '*'):\n",
    "    total = valor1 * valor2\n",
    "elif (sinal == '/'):\n",
    "    total = valor1 / valor2"
   ]
  },
  {
   "cell_type": "code",
   "execution_count": 41,
   "id": "91278591",
   "metadata": {},
   "outputs": [
    {
     "name": "stdout",
     "output_type": "stream",
     "text": [
      "4.0\n"
     ]
    }
   ],
   "source": [
    "print(total)"
   ]
  },
  {
   "cell_type": "code",
   "execution_count": null,
   "id": "681ccc84",
   "metadata": {},
   "outputs": [],
   "source": []
  }
 ],
 "metadata": {
  "kernelspec": {
   "display_name": "Python 3 (ipykernel)",
   "language": "python",
   "name": "python3"
  },
  "language_info": {
   "codemirror_mode": {
    "name": "ipython",
    "version": 3
   },
   "file_extension": ".py",
   "mimetype": "text/x-python",
   "name": "python",
   "nbconvert_exporter": "python",
   "pygments_lexer": "ipython3",
   "version": "3.11.3"
  }
 },
 "nbformat": 4,
 "nbformat_minor": 5
}
